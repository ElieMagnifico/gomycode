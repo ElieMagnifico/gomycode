{
 "cells": [
  {
   "cell_type": "code",
   "execution_count": 1,
   "metadata": {},
   "outputs": [
    {
     "name": "stdout",
     "output_type": "stream",
     "text": [
      "[2002, 2009, 2016, 2023, 2037, 2044, 2051, 2058, 2072, 2079, 2086, 2093, 2107, 2114, 2121, 2128, 2142, 2149, 2156, 2163, 2177, 2184, 2191, 2198, 2212, 2219, 2226, 2233, 2247, 2254, 2261, 2268, 2282, 2289, 2296, 2303, 2317, 2324, 2331, 2338, 2352, 2359, 2366, 2373, 2387, 2394, 2401, 2408, 2422, 2429, 2436, 2443, 2457, 2464, 2471, 2478, 2492, 2499, 2506, 2513, 2527, 2534, 2541, 2548, 2562, 2569, 2576, 2583, 2597, 2604, 2611, 2618, 2632, 2639, 2646, 2653, 2667, 2674, 2681, 2688, 2702, 2709, 2716, 2723, 2737, 2744, 2751, 2758, 2772, 2779, 2786, 2793, 2807, 2814, 2821, 2828, 2842, 2849, 2856, 2863, 2877, 2884, 2891, 2898, 2912, 2919, 2926, 2933, 2947, 2954, 2961, 2968, 2982, 2989, 2996, 3003, 3017, 3024, 3031, 3038, 3052, 3059, 3066, 3073, 3087, 3094, 3101, 3108, 3122, 3129, 3136, 3143, 3157, 3164, 3171, 3178, 3192, 3199]\n"
     ]
    }
   ],
   "source": [
    "L=[]\n",
    "for i in range(2000,3201):\n",
    "    if((i%7==0) and (i%5)):\n",
    "        L.append(i)\n",
    "print(L)"
   ]
  },
  {
   "cell_type": "code",
   "execution_count": 4,
   "metadata": {},
   "outputs": [
    {
     "name": "stdin",
     "output_type": "stream",
     "text": [
      "Enter the integer,please \n",
      " 8\n"
     ]
    },
    {
     "name": "stdout",
     "output_type": "stream",
     "text": [
      "The factorial of 8 is 40320\n"
     ]
    }
   ],
   "source": [
    "def factorial(x):\n",
    "    fact=1\n",
    "    for i in range(2,x+1):\n",
    "        fact*=i\n",
    "    return fact\n",
    "n=int(input(\"Enter the integer,please \\n\"))\n",
    "print (\"The factorial of\",n,\"is\", factorial(n))"
   ]
  },
  {
   "cell_type": "code",
   "execution_count": 5,
   "metadata": {},
   "outputs": [
    {
     "name": "stdin",
     "output_type": "stream",
     "text": [
      "Enter the max number,please \n",
      " 10\n"
     ]
    },
    {
     "name": "stdout",
     "output_type": "stream",
     "text": [
      "Here is the dictionnary containing integers between 1 and 10 with their squares :  {1: 1, 2: 4, 3: 9, 4: 16, 5: 25, 6: 36, 7: 49, 8: 64, 9: 81, 10: 100}\n"
     ]
    }
   ],
   "source": [
    "D={}\n",
    "n=int(input(\"Enter the max number,please \\n\"))\n",
    "for i in range (1,n+1):\n",
    "    D[i]=i*i\n",
    "print (\"Here is the dictionnary containing integers between 1 and\",n,\"with their squares : \",D)"
   ]
  },
  {
   "cell_type": "code",
   "execution_count": 9,
   "metadata": {},
   "outputs": [
    {
     "name": "stdin",
     "output_type": "stream",
     "text": [
      "Enter the string,please\n",
      " Tunisien\n",
      "Enter the index to remove,please\n",
      " -1\n"
     ]
    },
    {
     "name": "stdout",
     "output_type": "stream",
     "text": [
      "The new string :\n",
      " Tunisie\n"
     ]
    }
   ],
   "source": [
    "def missing_char(chain,n):\n",
    "    L=list(chain)\n",
    "    del L[n]\n",
    "    chain=\"\".join(L)\n",
    "    return chain\n",
    "string=input(\"Enter the string,please\\n\")\n",
    "i=int(input(\"Enter the index to remove,please\\n\"))\n",
    "print(\"The new string :\\n\",missing_char(string,i))"
   ]
  },
  {
   "cell_type": "code",
   "execution_count": 6,
   "metadata": {},
   "outputs": [
    {
     "name": "stdout",
     "output_type": "stream",
     "text": [
      "[[ 1  2  3]\n",
      " [ 4  5  6]\n",
      " [ 7  8  9]\n",
      " [10 11 12]]\n",
      "[[1, 2, 3], [4, 5, 6], [7, 8, 9], [10, 11, 12]]\n"
     ]
    }
   ],
   "source": [
    "import numpy as np\n",
    "def Convert(array):\n",
    "    L=[]\n",
    "    for i in array:\n",
    "        l=list(i)\n",
    "        L.append(l)\n",
    "    return(L)\n",
    "array=np.array([[1,2,3],[4,5,6],[7,8,9],[10,11,12]])\n",
    "print(array)\n",
    "print(Convert(array))"
   ]
  },
  {
   "cell_type": "code",
   "execution_count": 13,
   "metadata": {},
   "outputs": [
    {
     "name": "stdout",
     "output_type": "stream",
     "text": [
      "The coriance matrix of [0 1 2] and [2 1 0] is :\n",
      " [[ 1. -1.]\n",
      " [-1.  1.]]\n"
     ]
    }
   ],
   "source": [
    "import numpy as np\n",
    "array1=np.array([0,1,2])\n",
    "array2=np.array([2,1,0])\n",
    "covariance=np.cov(array1,array2)\n",
    "print(\"The coriance matrix of\",array1,\"and\",array2,\"is :\\n\",covariance)"
   ]
  },
  {
   "cell_type": "code",
   "execution_count": 14,
   "metadata": {},
   "outputs": [
    {
     "name": "stdin",
     "output_type": "stream",
     "text": [
      "Enter comma separated integers:  100,150,180\n"
     ]
    },
    {
     "name": "stdout",
     "output_type": "stream",
     "text": [
      "18,22,24,"
     ]
    }
   ],
   "source": [
    "import math\n",
    "C=50\n",
    "H=30\n",
    "D = input(\"Enter comma separated integers: \")\n",
    "l1 = D.split (\",\")\n",
    "l2 = []\n",
    "for i in l1:\n",
    "\tl2.append(int(i))\n",
    "for i in l2:\n",
    "    Value=int(math.sqrt((2*C*i)/H))\n",
    "    print(Value,end=',')"
   ]
  }
 ],
 "metadata": {
  "kernelspec": {
   "display_name": "Python 3",
   "language": "python",
   "name": "python3"
  },
  "language_info": {
   "codemirror_mode": {
    "name": "ipython",
    "version": 3
   },
   "file_extension": ".py",
   "mimetype": "text/x-python",
   "name": "python",
   "nbconvert_exporter": "python",
   "pygments_lexer": "ipython3",
   "version": "3.7.4"
  }
 },
 "nbformat": 4,
 "nbformat_minor": 4
}
